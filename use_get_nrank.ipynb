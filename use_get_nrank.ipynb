{
 "cells": [
  {
   "cell_type": "code",
   "execution_count": 1,
   "metadata": {},
   "outputs": [
    {
     "name": "stdout",
     "output_type": "stream",
     "text": [
      "[2019-07-19 21:08:35] training is finished!\n"
     ]
    }
   ],
   "source": [
    "from getNrank import Recommender"
   ]
  },
  {
   "cell_type": "code",
   "execution_count": 2,
   "metadata": {},
   "outputs": [
    {
     "name": "stdout",
     "output_type": "stream",
     "text": [
      "init song information\n",
      "the number of song:  42799\n",
      "singer2id:  416\n",
      "genre2id:  17\n",
      "init user infomation\n",
      "the number of users:  190661\n",
      "deep_layer2:128,final:194\n",
      "[2019-07-19 21:09:05] Net build done\n"
     ]
    }
   ],
   "source": [
    "rec=Recommender(config_path='config/Music/DeepFM.config',gpu='2',model_path='/mnt/data5/zzy/hw/MusicRec/model/DeepFM-BIG-id/model-20.pkl')\n"
   ]
  },
  {
   "cell_type": "code",
   "execution_count": 3,
   "metadata": {},
   "outputs": [
    {
     "data": {
      "text/plain": [
       "array([211998384,    723637,   7060463,   9060715,    543977, 108756031,\n",
       "       107762070, 201623252,   4830342, 108986243])"
      ]
     },
     "execution_count": 3,
     "metadata": {},
     "output_type": "execute_result"
    }
   ],
   "source": [
    "rec.getNrank(uid=1449859400,ranknum=10,samplenum=1000)"
   ]
  },
  {
   "cell_type": "code",
   "execution_count": null,
   "metadata": {},
   "outputs": [],
   "source": []
  }
 ],
 "metadata": {
  "kernelspec": {
   "display_name": "Python 3",
   "language": "python",
   "name": "python3"
  },
  "language_info": {
   "codemirror_mode": {
    "name": "ipython",
    "version": 3
   },
   "file_extension": ".py",
   "mimetype": "text/x-python",
   "name": "python",
   "nbconvert_exporter": "python",
   "pygments_lexer": "ipython3",
   "version": "3.7.3"
  }
 },
 "nbformat": 4,
 "nbformat_minor": 4
}
